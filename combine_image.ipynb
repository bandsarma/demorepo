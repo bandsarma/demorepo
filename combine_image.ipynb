{
 "cells": [
  {
   "cell_type": "markdown",
   "id": "89756fca",
   "metadata": {},
   "source": [
    "##  This code is used to combine two images horizontally"
   ]
  },
  {
   "cell_type": "markdown",
   "id": "21b64726",
   "metadata": {},
   "source": [
    "# This is just for learning purpose"
   ]
  },
  {
   "cell_type": "code",
   "execution_count": 3,
   "id": "5ec23e96",
   "metadata": {},
   "outputs": [
    {
     "name": "stdout",
     "output_type": "stream",
     "text": [
      "1\n",
      "2\n",
      "3\n",
      "4\n",
      "5\n",
      "6\n",
      "7\n",
      "8\n",
      "9\n"
     ]
    }
   ],
   "source": [
    "# This script prints numbers from 1 to 9\n",
    "for i in range(1, 10):\n",
    "    print(i)"
   ]
  },
  {
   "cell_type": "markdown",
   "id": "11dc7503",
   "metadata": {},
   "source": [
    "#### A. joining horizontally and keeping image sizes same"
   ]
  },
  {
   "cell_type": "code",
   "execution_count": 3,
   "id": "d352bb78",
   "metadata": {},
   "outputs": [],
   "source": [
    "from PIL import Image\n",
    "\n",
    "def resize_to_height(img, target_height):\n",
    "    # Maintain aspect ratio\n",
    "    h_percent = (target_height / float(img.height))\n",
    "    w_size = int(float(img.width) * h_percent)\n",
    "    return img.resize((w_size, target_height), Image.LANCZOS)\n",
    "\n",
    "# Open images\n",
    "img1 = Image.open(r\"C:\\Users\\waglep\\Documents\\All_codes\\Image_combiner\\Input\\fig10a.png\")\n",
    "img2 = Image.open(r\"C:\\Users\\waglep\\Documents\\All_codes\\Image_combiner\\Input\\fig10b.png\")\n",
    "\n",
    "# Choose common height (maximum of both original heights)\n",
    "common_height = max(img1.height, img2.height)\n",
    "\n",
    "# Resize both to the same height\n",
    "img1_resized = resize_to_height(img1, common_height)\n",
    "img2_resized = resize_to_height(img2, common_height)\n",
    "\n",
    "# Calculate total width after resizing\n",
    "total_width = img1_resized.width + img2_resized.width\n",
    "\n",
    "# Create a new blank image with white background\n",
    "combined = Image.new('RGB', (total_width, common_height), color=(255, 255, 255))\n",
    "\n",
    "# Paste images side by side\n",
    "combined.paste(img1_resized, (0, 0))\n",
    "combined.paste(img2_resized, (img1_resized.width, 0))\n",
    "\n",
    "# Save the combined image\n",
    "combined.save(r\"C:\\Users\\waglep\\Documents\\All_codes\\Image_combiner\\Output\\fig10_combined_horizontal.png\")\n"
   ]
  },
  {
   "cell_type": "markdown",
   "id": "9e0854d2",
   "metadata": {},
   "source": [
    "#### B. joining horizontally and keeping original image sizes"
   ]
  },
  {
   "cell_type": "code",
   "execution_count": 6,
   "id": "9f23748d",
   "metadata": {},
   "outputs": [],
   "source": [
    "from PIL import Image\n",
    "\n",
    "# Open images (original sizes preserved)\n",
    "img1 = Image.open(r\"C:\\Users\\waglep\\Documents\\All_codes\\Image_combiner\\Input\\fig10a.png\")\n",
    "img2 = Image.open(r\"C:\\Users\\waglep\\Documents\\All_codes\\Image_combiner\\Input\\fig10b.png\")\n",
    "\n",
    "# Define horizontal gap in pixels\n",
    "gap = 30\n",
    "\n",
    "# Set canvas size\n",
    "total_width = img1.width + gap + img2.width\n",
    "max_height = max(img1.height, img2.height)\n",
    "\n",
    "# Create blank canvas with white background\n",
    "combined = Image.new('RGB', (total_width, max_height), color=(255, 255, 255))\n",
    "\n",
    "# Vertically center images if heights differ\n",
    "y_offset1 = (max_height - img1.height) // 2\n",
    "y_offset2 = (max_height - img2.height) // 2\n",
    "\n",
    "# Paste images side by side with gap\n",
    "combined.paste(img1, (0, y_offset1))\n",
    "combined.paste(img2, (img1.width + gap, y_offset2))\n",
    "\n",
    "# Save combined image\n",
    "combined.save(r\"C:\\Users\\waglep\\Documents\\All_codes\\Image_combiner\\Output\\combined_horizontally_fig10_with_gap.png\")\n"
   ]
  },
  {
   "cell_type": "markdown",
   "id": "1c612de0",
   "metadata": {},
   "source": [
    "## THis code is used to combine two images vertically"
   ]
  },
  {
   "cell_type": "markdown",
   "id": "e9c9a7f3",
   "metadata": {},
   "source": [
    "#### A. joining vertically and keeping image sizes same"
   ]
  },
  {
   "cell_type": "code",
   "execution_count": 4,
   "id": "5637b59c",
   "metadata": {},
   "outputs": [],
   "source": [
    "from PIL import Image\n",
    "\n",
    "def resize_to_width(img, target_width):\n",
    "    # Maintain aspect ratio\n",
    "    w_percent = (target_width / float(img.width))\n",
    "    h_size = int(float(img.height) * w_percent)\n",
    "    return img.resize((target_width, h_size), Image.LANCZOS)\n",
    "\n",
    "# Open images\n",
    "img1 = Image.open(r\"C:\\Users\\waglep\\Documents\\All_codes\\Image_combiner\\Input\\fig10a.png\")\n",
    "img2 = Image.open(r\"C:\\Users\\waglep\\Documents\\All_codes\\Image_combiner\\Input\\fig10b.png\")\n",
    "\n",
    "# Choose common width (maximum of both original widths)\n",
    "common_width = max(img1.width, img2.width)\n",
    "\n",
    "# Resize both images to the same width\n",
    "img1_resized = resize_to_width(img1, common_width)\n",
    "img2_resized = resize_to_width(img2, common_width)\n",
    "\n",
    "# Calculate total height after resizing\n",
    "total_height = img1_resized.height + img2_resized.height\n",
    "\n",
    "# Create a new blank image with white background\n",
    "combined = Image.new('RGB', (common_width, total_height), color=(255, 255, 255))\n",
    "\n",
    "# Paste one below the other\n",
    "combined.paste(img1_resized, (0, 0))\n",
    "combined.paste(img2_resized, (0, img1_resized.height))\n",
    "\n",
    "# Save\n",
    "combined.save(r\"C:\\Users\\waglep\\Documents\\All_codes\\Image_combiner\\Output\\combined_vertically_fig10.png\")\n"
   ]
  },
  {
   "cell_type": "markdown",
   "id": "b199398c",
   "metadata": {},
   "source": [
    "#### A. joining vertically and keeping image sizes same and adding a gap"
   ]
  },
  {
   "cell_type": "code",
   "execution_count": 5,
   "id": "dc0600d8",
   "metadata": {},
   "outputs": [],
   "source": [
    "from PIL import Image\n",
    "\n",
    "def resize_to_width(img, target_width):\n",
    "    # Maintain aspect ratio\n",
    "    w_percent = (target_width / float(img.width))\n",
    "    h_size = int(float(img.height) * w_percent)\n",
    "    return img.resize((target_width, h_size), Image.LANCZOS)\n",
    "\n",
    "# Open images\n",
    "img1 = Image.open(r\"C:\\Users\\waglep\\Documents\\All_codes\\Image_combiner\\Input\\fig10a.png\")\n",
    "img2 = Image.open(r\"C:\\Users\\waglep\\Documents\\All_codes\\Image_combiner\\Input\\fig10b.png\")\n",
    "\n",
    "# Choose common width\n",
    "common_width = max(img1.width, img2.width)\n",
    "\n",
    "# Resize both to the same width\n",
    "img1_resized = resize_to_width(img1, common_width)\n",
    "img2_resized = resize_to_width(img2, common_width)\n",
    "\n",
    "# Define gap in pixels\n",
    "gap = 30\n",
    "\n",
    "# Calculate total height including gap\n",
    "total_height = img1_resized.height + gap + img2_resized.height\n",
    "\n",
    "# Create blank image with white background\n",
    "combined = Image.new('RGB', (common_width, total_height), color=(255, 255, 255))\n",
    "\n",
    "# Paste images with gap in between\n",
    "combined.paste(img1_resized, (0, 0))\n",
    "combined.paste(img2_resized, (0, img1_resized.height + gap))\n",
    "\n",
    "# Save combined image\n",
    "combined.save(r\"C:\\Users\\waglep\\Documents\\All_codes\\Image_combiner\\Output\\combined_vertically_fig10_with_gap.png\")\n"
   ]
  }
 ],
 "metadata": {
  "kernelspec": {
   "display_name": "datascience",
   "language": "python",
   "name": "python3"
  },
  "language_info": {
   "codemirror_mode": {
    "name": "ipython",
    "version": 3
   },
   "file_extension": ".py",
   "mimetype": "text/x-python",
   "name": "python",
   "nbconvert_exporter": "python",
   "pygments_lexer": "ipython3",
   "version": "3.13.1"
  }
 },
 "nbformat": 4,
 "nbformat_minor": 5
}
